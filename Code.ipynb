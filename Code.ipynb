{
 "cells": [
  {
   "cell_type": "code",
   "execution_count": 1,
   "id": "097164ee-fadc-4e6b-80f1-752e411dd89d",
   "metadata": {},
   "outputs": [
    {
     "name": "stdin",
     "output_type": "stream",
     "text": [
      "Enter the function you want to graph x^2+s*x+1/2\n",
      "Enter the Maximum Value of X 6\n",
      "Enter the Minimum Value of X -6\n"
     ]
    },
    {
     "name": "stdout",
     "output_type": "stream",
     "text": [
      "Syntax Error, Please enter a valid function\n"
     ]
    },
    {
     "name": "stdin",
     "output_type": "stream",
     "text": [
      "Enter the function you want to graph x^2+5*x-1/2\n",
      "Enter the Maximum Value of X 6\n",
      "Enter the Minimum Value of X -6\n"
     ]
    },
    {
     "data": {
      "image/png": "[encoded data removed]",
      "text/plain": [
       "<Figure size 432x288 with 1 Axes>"
      ]
     },
     "metadata": {
      "needs_background": "light"
     },
     "output_type": "display_data"
    }
   ],
   "source": [
    "# including the libraries we need\n",
    "import matplotlib.pyplot as plt\n",
    "import numpy as np\n",
    "\n",
    "# loop is for expecting and handling errors\n",
    "while True:\n",
    "    try:\n",
    "        # Getting the function we want to plot\n",
    "        temp_function=input(\"Enter the function you want to graph\")\n",
    "        # We replace ^ with ** to can solve the equation in python\n",
    "        function=temp_function.replace(\"^\",\"**\")\n",
    "        \n",
    "        # Getting the maximum and minimum value of x\n",
    "        x_max=int(input(\"Enter the Maximum Value of X\"))\n",
    "        x_min=int(input(\"Enter the Minimum Value of X\"))\n",
    "        \n",
    "        # Generating x and y values  \n",
    "        x = np.linspace(x_min,x_max, 1000)\n",
    "        y = eval(function)\n",
    "        \n",
    "        # Plotting points and x,y axis\n",
    "        plt.plot(x, y)\n",
    "        plt.axhline(color='grey')\n",
    "        plt.axvline(color='grey')\n",
    "        \n",
    "        # Putting titles \n",
    "        plt.xlabel(\"$x$\")\n",
    "        plt.ylabel(\"$f(x)$\")\n",
    "        plt.title(\"The graph of your function\")\n",
    "        \n",
    "        # Showing the graph\n",
    "        plt.show()\n",
    "        break\n",
    "        \n",
    "    except:\n",
    "        print(\"Syntax Error, Please enter a valid function\")\n"
   ]
  },
  {
   "cell_type": "code",
   "execution_count": null,
   "id": "09fc81ee-6212-4a07-909a-6609c2840515",
   "metadata": {},
   "outputs": [],
   "source": []
  }
 ],
 "metadata": {
  "kernelspec": {
   "display_name": "Python 3",
   "language": "python",
   "name": "python3"
  },
  "language_info": {
   "codemirror_mode": {
    "name": "ipython",
    "version": 3
   },
   "file_extension": ".py",
   "mimetype": "text/x-python",
   "name": "python",
   "nbconvert_exporter": "python",
   "pygments_lexer": "ipython3",
   "version": "3.9.0"
  }
 },
 "nbformat": 4,
 "nbformat_minor": 5
}
