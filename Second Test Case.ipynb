{
 "cells": [
  {
   "cell_type": "code",
   "execution_count": null,
   "id": "0a03f65e-af55-4b73-9f21-f63078c43eda",
   "metadata": {},
   "outputs": [],
   "source": [
    "# including the libraries we need\n",
    "import matplotlib.pyplot as plt\n",
    "import numpy as np\n",
    "\n",
    "# loop is for expecting and handling errors\n",
    "while True:\n",
    "    try:\n",
    "        # Getting the function we want to plot\n",
    "        temp_function=input(\"Enter the function you want to graph\")\n",
    "        # We replace ^ with ** to can solve the equation in python\n",
    "        function=temp_function.replace(\"^\",\"**\")\n",
    "        \n",
    "        # Getting the maximum and minimum value of x\n",
    "        x_max=int(input(\"Enter the Maximum Value of X\"))\n",
    "        x_min=int(input(\"Enter the Minimum Value of X\"))\n",
    "        \n",
    "        # Generating x and y values  \n",
    "        x = np.linspace(x_min,x_max, 1000)\n",
    "        y = eval(function)\n",
    "        \n",
    "        # Plotting points and x,y axis\n",
    "        plt.plot(x, y)\n",
    "        plt.axhline(color='grey')\n",
    "        plt.axvline(color='grey')\n",
    "        \n",
    "        # Putting titles \n",
    "        plt.xlabel(\"$x$\")\n",
    "        plt.ylabel(\"$f(x)$\")\n",
    "        plt.title(\"The graph of your function\")\n",
    "        \n",
    "        # Showing the graph\n",
    "        plt.show()\n",
    "        break\n",
    "        \n",
    "    except:\n",
    "        print(\"Syntax Error, Please enter a valid function\")\n"
   ]
  },
  {
   "cell_type": "code",
   "execution_count": null,
   "id": "b1e0f4a5-7b32-4fe1-82e4-22a7a87a4543",
   "metadata": {},
   "outputs": [],
   "source": []
  }
 ],
 "metadata": {
  "kernelspec": {
   "display_name": "Python 3",
   "language": "python",
   "name": "python3"
  },
  "language_info": {
   "codemirror_mode": {
    "name": "ipython",
    "version": 3
   },
   "file_extension": ".py",
   "mimetype": "text/x-python",
   "name": "python",
   "nbconvert_exporter": "python",
   "pygments_lexer": "ipython3",
   "version": "3.9.0"
  }
 },
 "nbformat": 4,
 "nbformat_minor": 5
}
